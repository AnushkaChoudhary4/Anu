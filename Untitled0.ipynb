{
  "nbformat": 4,
  "nbformat_minor": 0,
  "metadata": {
    "colab": {
      "provenance": [],
      "authorship_tag": "ABX9TyPjl7yLMYlv96nJ9Cax3/0I",
      "include_colab_link": true
    },
    "kernelspec": {
      "name": "python3",
      "display_name": "Python 3"
    },
    "language_info": {
      "name": "python"
    }
  },
  "cells": [
    {
      "cell_type": "markdown",
      "metadata": {
        "id": "view-in-github",
        "colab_type": "text"
      },
      "source": [
        "<a href=\"https://colab.research.google.com/github/AnushkaChoudhary4/Anu/blob/main/Untitled0.ipynb\" target=\"_parent\"><img src=\"https://colab.research.google.com/assets/colab-badge.svg\" alt=\"Open In Colab\"/></a>"
      ]
    },
    {
      "cell_type": "code",
      "execution_count": 4,
      "metadata": {
        "colab": {
          "base_uri": "https://localhost:8080/"
        },
        "id": "ZzsEVXM-g4FH",
        "outputId": "23fb9884-bd13-4f1b-c609-ec9adf2a9be0"
      },
      "outputs": [
        {
          "output_type": "stream",
          "name": "stdout",
          "text": [
            "53\n",
            "3\n"
          ]
        }
      ],
      "source": [
        "a=1\n",
        "b=4\n",
        "c=input(a+b)\n",
        "print(c)"
      ]
    },
    {
      "cell_type": "code",
      "source": [
        "input(\"value of a\")\n"
      ],
      "metadata": {
        "colab": {
          "base_uri": "https://localhost:8080/",
          "height": 53
        },
        "id": "NsXRBxn-kjg7",
        "outputId": "7a4ca2e5-03b6-408c-b279-fa8cbe05c996"
      },
      "execution_count": 5,
      "outputs": [
        {
          "name": "stdout",
          "output_type": "stream",
          "text": [
            "value of a3\n"
          ]
        },
        {
          "output_type": "execute_result",
          "data": {
            "text/plain": [
              "'3'"
            ],
            "application/vnd.google.colaboratory.intrinsic+json": {
              "type": "string"
            }
          },
          "metadata": {},
          "execution_count": 5
        }
      ]
    },
    {
      "cell_type": "code",
      "source": [
        "a=int(input(\"Enter the value of a:\"))\n",
        "b=int(input(\"Enter the value of b:\"))\n",
        "c=int(a+b)\n",
        "print(c)"
      ],
      "metadata": {
        "colab": {
          "base_uri": "https://localhost:8080/"
        },
        "id": "z6yNlLoUlj6f",
        "outputId": "692a5ae7-6d12-4a2c-c7ea-5bf69969b017"
      },
      "execution_count": 11,
      "outputs": [
        {
          "output_type": "stream",
          "name": "stdout",
          "text": [
            "Enter the value of a:4\n",
            "Enter the value of b:4\n",
            "8\n"
          ]
        }
      ]
    },
    {
      "cell_type": "code",
      "source": [
        "a=float(input(\"Enter the value of a:\"))\n",
        "b=float(input(\"Enter the value of b:\"))\n",
        "c=float(a+b)\n",
        "print(c)"
      ],
      "metadata": {
        "colab": {
          "base_uri": "https://localhost:8080/"
        },
        "id": "XM_nDWgBnxMx",
        "outputId": "4a2bbd3a-6293-4f9c-b8d1-8c3a7fe0f58e"
      },
      "execution_count": 12,
      "outputs": [
        {
          "output_type": "stream",
          "name": "stdout",
          "text": [
            "Enter the value of a:12.2\n",
            "Enter the value of b:13.9\n",
            "26.1\n"
          ]
        }
      ]
    },
    {
      "cell_type": "code",
      "source": [
        "a=int(input(\"Enter the value of a:\"))\n",
        "b=int(input(\"Enter the value of b:\"))\n",
        "c=int(a+b),(a-b),(a*b),(a/b),(a%b)\n",
        "print(c)\n"
      ],
      "metadata": {
        "colab": {
          "base_uri": "https://localhost:8080/"
        },
        "id": "ySbbjdJBoBaL",
        "outputId": "3062a6c2-68b6-4791-d0f5-a477cd50f0e9"
      },
      "execution_count": 18,
      "outputs": [
        {
          "output_type": "stream",
          "name": "stdout",
          "text": [
            "Enter the value of a:2\n",
            "Enter the value of b:2\n",
            "(4, 0, 4, 1.0, 0)\n"
          ]
        }
      ]
    },
    {
      "cell_type": "code",
      "source": [
        "a=20\n",
        "if a>10:\n",
        "    print(\"a is greater then 10\")\n",
        "\n",
        "else:\n",
        "    print(\"a is smaller then 10\")\n",
        "\n"
      ],
      "metadata": {
        "colab": {
          "base_uri": "https://localhost:8080/"
        },
        "id": "fSF6tYYitM6f",
        "outputId": "ed9c6c54-4fc5-4dca-eb35-2841bb0cb012"
      },
      "execution_count": 24,
      "outputs": [
        {
          "output_type": "stream",
          "name": "stdout",
          "text": [
            "a is greater then 10\n"
          ]
        }
      ]
    }
  ]
}