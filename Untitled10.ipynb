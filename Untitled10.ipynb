{
  "nbformat": 4,
  "nbformat_minor": 0,
  "metadata": {
    "colab": {
      "provenance": [],
      "authorship_tag": "ABX9TyMdtlW5z4ar1jv3zEd9Zvrh",
      "include_colab_link": true
    },
    "kernelspec": {
      "name": "python3",
      "display_name": "Python 3"
    },
    "language_info": {
      "name": "python"
    }
  },
  "cells": [
    {
      "cell_type": "markdown",
      "metadata": {
        "id": "view-in-github",
        "colab_type": "text"
      },
      "source": [
        "<a href=\"https://colab.research.google.com/github/AnushkaChoudhary4/Anu/blob/main/Untitled10.ipynb\" target=\"_parent\"><img src=\"https://colab.research.google.com/assets/colab-badge.svg\" alt=\"Open In Colab\"/></a>"
      ]
    },
    {
      "cell_type": "code",
      "execution_count": 9,
      "metadata": {
        "colab": {
          "base_uri": "https://localhost:8080/"
        },
        "id": "RTVxaqA9FX9t",
        "outputId": "2f02c9c8-6266-46c1-ae58-86f4a3f09b5b"
      },
      "outputs": [
        {
          "output_type": "stream",
          "name": "stdout",
          "text": [
            "enter the number4\n",
            "The factorial of 4 is 24\n"
          ]
        }
      ],
      "source": [
        "num=int(input(\"enter the number\"))\n",
        "factorial=1\n",
        "if num<0:\n",
        "  print(\"Factorial does not exit for negative number\")\n",
        "else:\n",
        "  for i in range(1,num+1):\n",
        "    factorial=factorial*i\n",
        "  print(\"The factorial of\",num,\"is\",factorial)"
      ]
    },
    {
      "cell_type": "code",
      "source": [
        "s=\"Anushka\"\n",
        "lof=len(s)\n",
        "str=\"\"\n",
        "while lof>-0:\n",
        "  lof-=1\n",
        "  str+=s[lof]\n",
        "print(str)"
      ],
      "metadata": {
        "colab": {
          "base_uri": "https://localhost:8080/"
        },
        "id": "J6rXNMPtL68X",
        "outputId": "3fdf69ea-2ac3-48f2-f2a8-66fc11d7c162"
      },
      "execution_count": 31,
      "outputs": [
        {
          "output_type": "stream",
          "name": "stdout",
          "text": [
            "akhsunA\n"
          ]
        }
      ]
    },
    {
      "cell_type": "code",
      "source": [
        "s=\"abc\"\n",
        "lof=len(s)\n",
        "str=\"\"\n",
        "while lof>-1:\n",
        "  lof-=1\n",
        "  str+=s[lof]\n",
        "print(str)"
      ],
      "metadata": {
        "colab": {
          "base_uri": "https://localhost:8080/"
        },
        "id": "Uz43_h_1So8N",
        "outputId": "beb429d1-dbab-4463-ca44-6d5db2c259ef"
      },
      "execution_count": 33,
      "outputs": [
        {
          "output_type": "stream",
          "name": "stdout",
          "text": [
            "cbac\n"
          ]
        }
      ]
    },
    {
      "cell_type": "code",
      "source": [
        "str=\"my name is anu\"\n",
        "x=str.split()\n",
        "print(x)\n"
      ],
      "metadata": {
        "colab": {
          "base_uri": "https://localhost:8080/"
        },
        "id": "-2KE2ZyYT-FH",
        "outputId": "ffc56ab2-26e3-4539-d2ec-5df6fa00e139"
      },
      "execution_count": 43,
      "outputs": [
        {
          "output_type": "stream",
          "name": "stdout",
          "text": [
            "['my', 'name', 'is', 'anu']\n"
          ]
        }
      ]
    },
    {
      "cell_type": "code",
      "source": [
        "s=\"my name is anu\"\n",
        "s=str.split()\n",
        "lof=len(s)\n",
        "str=\"\"\n",
        "while s<len:\n",
        "  lof-=1\n",
        "  str+=s[lof]\n",
        "print(str)\n"
      ],
      "metadata": {
        "id": "k4dw6IEIWOF-"
      },
      "execution_count": null,
      "outputs": []
    }
  ]
}