{
  "nbformat": 4,
  "nbformat_minor": 0,
  "metadata": {
    "colab": {
      "provenance": [],
      "authorship_tag": "ABX9TyPklqWdTMM8BJBritcuROhc",
      "include_colab_link": true
    },
    "kernelspec": {
      "name": "python3",
      "display_name": "Python 3"
    },
    "language_info": {
      "name": "python"
    }
  },
  "cells": [
    {
      "cell_type": "markdown",
      "metadata": {
        "id": "view-in-github",
        "colab_type": "text"
      },
      "source": [
        "<a href=\"https://colab.research.google.com/github/AnushkaChoudhary4/Anu/blob/main/Untitled3.ipynb\" target=\"_parent\"><img src=\"https://colab.research.google.com/assets/colab-badge.svg\" alt=\"Open In Colab\"/></a>"
      ]
    },
    {
      "cell_type": "code",
      "execution_count": 2,
      "metadata": {
        "id": "0S8PCDeVp5gX",
        "colab": {
          "base_uri": "https://localhost:8080/"
        },
        "outputId": "3e8488cd-85fe-4c39-d29f-3a0c8b9be5de"
      },
      "outputs": [
        {
          "output_type": "stream",
          "name": "stdout",
          "text": [
            "enter10\n",
            "<class 'str'>\n",
            "<class 'bool'>\n"
          ]
        }
      ],
      "source": [
        "a=input(\"enter\")\n",
        "print(type(a))\n",
        "a=bool(a)\n",
        "print(type(a))"
      ]
    },
    {
      "cell_type": "code",
      "source": [
        "a=input(\"enter value\")\n",
        "a=int(a)\n",
        "b=input(\"enter value\")\n",
        "b=int(b)\n",
        "c=input(\"enter value\")\n",
        "c=int(c)\n",
        "if a>b:\n",
        "  print(\"a is bigger than b\")\n",
        "elif b>c:\n",
        "    print(\"b is bigger than c\")"
      ],
      "metadata": {
        "colab": {
          "base_uri": "https://localhost:8080/"
        },
        "id": "-LBsWG0JvR-5",
        "outputId": "2e995c82-bb26-4dc0-caa5-f011dc35a64a"
      },
      "execution_count": 14,
      "outputs": [
        {
          "output_type": "stream",
          "name": "stdout",
          "text": [
            "enter value10\n",
            "enter value10\n",
            "enter value3\n",
            "b is bigger than c\n"
          ]
        }
      ]
    },
    {
      "cell_type": "code",
      "source": [
        "a=input(\"enetr a value\")\n",
        "a=int(a)\n",
        "if a%3==0:\n",
        "  print (\"a is divisble by 3\")\n",
        "elif a%5==0:\n",
        "  print(\"a is divisible by 5\")\n",
        "elif a%7==0:\n",
        "  print(\"a is divisble by 7\")\n",
        "else :\n",
        "   print(\"a is not divisble by 3,5,7\")\n"
      ],
      "metadata": {
        "colab": {
          "base_uri": "https://localhost:8080/"
        },
        "id": "xU50gSwgyZu8",
        "outputId": "67e8db93-56b2-4643-c60e-a7003264b99e"
      },
      "execution_count": 33,
      "outputs": [
        {
          "output_type": "stream",
          "name": "stdout",
          "text": [
            "enetr a value10\n",
            "a is divisible by 5\n"
          ]
        }
      ]
    },
    {
      "cell_type": "code",
      "source": [
        "a=input(\"enter a value\")\n",
        "a=int(a)\n",
        "if a>0:\n",
        "  print(\"a is positive to 0 \")\n",
        "if a<0:\n",
        "    print(\"a is a negative no.\")\n",
        "else:\n",
        "  print (\"a is a neutral no.\")\n"
      ],
      "metadata": {
        "colab": {
          "base_uri": "https://localhost:8080/"
        },
        "id": "ioU2AKiK0wHn",
        "outputId": "8614291c-e775-404c-e4d9-37e43b9c9fda"
      },
      "execution_count": 35,
      "outputs": [
        {
          "output_type": "stream",
          "name": "stdout",
          "text": [
            "enter a value-10\n",
            "a is a negative no.\n"
          ]
        }
      ]
    },
    {
      "cell_type": "code",
      "source": [],
      "metadata": {
        "id": "hdIW1yAW8lAi"
      },
      "execution_count": null,
      "outputs": []
    }
  ]
}