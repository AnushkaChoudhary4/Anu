{
  "nbformat": 4,
  "nbformat_minor": 0,
  "metadata": {
    "colab": {
      "provenance": [],
      "authorship_tag": "ABX9TyMFESKSMLhWBgoKcfR1ItoY",
      "include_colab_link": true
    },
    "kernelspec": {
      "name": "python3",
      "display_name": "Python 3"
    },
    "language_info": {
      "name": "python"
    }
  },
  "cells": [
    {
      "cell_type": "markdown",
      "metadata": {
        "id": "view-in-github",
        "colab_type": "text"
      },
      "source": [
        "<a href=\"https://colab.research.google.com/github/AnushkaChoudhary4/Anu/blob/main/Untitled3.ipynb\" target=\"_parent\"><img src=\"https://colab.research.google.com/assets/colab-badge.svg\" alt=\"Open In Colab\"/></a>"
      ]
    },
    {
      "cell_type": "code",
      "execution_count": 2,
      "metadata": {
        "id": "0S8PCDeVp5gX",
        "colab": {
          "base_uri": "https://localhost:8080/"
        },
        "outputId": "3e8488cd-85fe-4c39-d29f-3a0c8b9be5de"
      },
      "outputs": [
        {
          "output_type": "stream",
          "name": "stdout",
          "text": [
            "enter10\n",
            "<class 'str'>\n",
            "<class 'bool'>\n"
          ]
        }
      ],
      "source": [
        "a=input(\"enter\")\n",
        "print(type(a))\n",
        "a=bool(a)\n",
        "print(type(a))"
      ]
    },
    {
      "cell_type": "code",
      "source": [
        "a=input(\"enter value\")\n",
        "a=int(a)\n",
        "b=input(\"enter value\")\n",
        "b=int(b)\n",
        "c=input(\"enter value\")\n",
        "c=int(c)\n",
        "if a>b:\n",
        "  print(\"a is bigger than b\")\n",
        "elif b>c:\n",
        "    print(\"b is bigger than c\")"
      ],
      "metadata": {
        "colab": {
          "base_uri": "https://localhost:8080/"
        },
        "id": "-LBsWG0JvR-5",
        "outputId": "2e995c82-bb26-4dc0-caa5-f011dc35a64a"
      },
      "execution_count": 14,
      "outputs": [
        {
          "output_type": "stream",
          "name": "stdout",
          "text": [
            "enter value10\n",
            "enter value10\n",
            "enter value3\n",
            "b is bigger than c\n"
          ]
        }
      ]
    }
  ]
}