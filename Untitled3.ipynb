{
  "nbformat": 4,
  "nbformat_minor": 0,
  "metadata": {
    "colab": {
      "provenance": [],
      "authorship_tag": "ABX9TyMBfwRlK8eeD4Jia4QTGegh",
      "include_colab_link": true
    },
    "kernelspec": {
      "name": "python3",
      "display_name": "Python 3"
    },
    "language_info": {
      "name": "python"
    }
  },
  "cells": [
    {
      "cell_type": "markdown",
      "metadata": {
        "id": "view-in-github",
        "colab_type": "text"
      },
      "source": [
        "<a href=\"https://colab.research.google.com/github/AnushkaChoudhary4/Anu/blob/main/Untitled3.ipynb\" target=\"_parent\"><img src=\"https://colab.research.google.com/assets/colab-badge.svg\" alt=\"Open In Colab\"/></a>"
      ]
    },
    {
      "cell_type": "code",
      "execution_count": 1,
      "metadata": {
        "id": "0S8PCDeVp5gX",
        "colab": {
          "base_uri": "https://localhost:8080/"
        },
        "outputId": "68721056-463c-42ef-8c17-037a837032c7"
      },
      "outputs": [
        {
          "output_type": "stream",
          "name": "stdout",
          "text": [
            "enter anything56\n",
            "<class 'str'>\n",
            "True\n",
            "<class 'bool'>\n"
          ]
        }
      ],
      "source": [
        "a=input(\"enter anything\")\n",
        "print(type(a))\n",
        "a=bool(a)\n",
        "print(a)\n",
        "print(type(a))"
      ]
    },
    {
      "cell_type": "code",
      "source": [
        "a= input(\"Enter value\")\n",
        "a=int(a)\n",
        "b=input(\"Enter value\")\n",
        "b=int(b)\n",
        "if a>b:\n",
        "  print(\"a is greater then b\")\n",
        "else:\n",
        "  print(\"b is graeter then a\")"
      ],
      "metadata": {
        "id": "Yp-iHwm3v7eR",
        "outputId": "44b094d5-8ae2-4ce6-ce7d-55732f220cc4",
        "colab": {
          "base_uri": "https://localhost:8080/"
        }
      },
      "execution_count": 3,
      "outputs": [
        {
          "output_type": "stream",
          "name": "stdout",
          "text": [
            "Enter value4\n",
            "Enter value6\n",
            "b is graeter then a\n"
          ]
        }
      ]
    },
    {
      "cell_type": "code",
      "source": [
        "a= input(\"Enter value a:\")\n",
        "a=int(a)\n",
        "b=input(\"Enter value b:\")\n",
        "b=int(b)\n",
        "c=input(\"Enter value c:\")\n",
        "c=int(c)\n",
        "if a>b:\n",
        "  print(\"a is greater then b\")\n",
        "elif b>a:\n",
        "  print(\"b is graeter then a\")\n",
        "else:\n",
        "  print(\"c is greater the a and b\")"
      ],
      "metadata": {
        "id": "daffryGZwlGz",
        "outputId": "199eb68a-6562-4125-f215-9466afb8d05c",
        "colab": {
          "base_uri": "https://localhost:8080/"
        }
      },
      "execution_count": 17,
      "outputs": [
        {
          "output_type": "stream",
          "name": "stdout",
          "text": [
            "Enter value a:10\n",
            "Enter value b:20\n",
            "Enter value c:30\n",
            "b is graeter then a\n"
          ]
        }
      ]
    },
    {
      "cell_type": "code",
      "source": [
        "a= int(input(\"Enter the value of a:\"))\n",
        "a=int(a)\n",
        "if a/2:\n",
        "  print(\"a is divisible by 2\")\n",
        "else:\n",
        "  print(\"a is not divisible by 2\")"
      ],
      "metadata": {
        "id": "GvHm0A6XzSRO",
        "outputId": "3378159d-1866-4988-fdbf-de8c542dec09",
        "colab": {
          "base_uri": "https://localhost:8080/"
        }
      },
      "execution_count": 19,
      "outputs": [
        {
          "output_type": "stream",
          "name": "stdout",
          "text": [
            "Enter the value of a:4\n",
            "a is divisible by 2\n"
          ]
        }
      ]
    },
    {
      "cell_type": "code",
      "source": [
        "a=int(input(\"Enter the number\"))\n",
        "if a>0:\n",
        "  print(\"a is posive number\")\n",
        "elif a<0:\n",
        "  print(\"a is negative number\")\n",
        "else:\n",
        "  print(\"a is neutral\")"
      ],
      "metadata": {
        "id": "5nCeySw20tCs",
        "outputId": "b9498621-5375-4215-a15a-f3ff0453021f",
        "colab": {
          "base_uri": "https://localhost:8080/"
        }
      },
      "execution_count": 24,
      "outputs": [
        {
          "output_type": "stream",
          "name": "stdout",
          "text": [
            "Enter the number-6\n",
            "a is negative number\n"
          ]
        }
      ]
    },
    {
      "cell_type": "code",
      "source": [
        "a=int(input(\"enter value a:\"))\n",
        "if a/3:\n",
        "  print(\"a is divisible by 3\")\n",
        "elif a/5:\n",
        "  print(\"a is divisible by 5\")\n",
        "elif a/7:\n",
        "  print(\"a is divisible by 7 \")\n",
        "else:\n",
        "  print(\"a is not divisible by 3,5 or 7\")"
      ],
      "metadata": {
        "id": "GyY5dbcG2OkR",
        "outputId": "ddec9c21-1b2e-4059-f9c8-ac55ce5e321c",
        "colab": {
          "base_uri": "https://localhost:8080/"
        }
      },
      "execution_count": 31,
      "outputs": [
        {
          "output_type": "stream",
          "name": "stdout",
          "text": [
            "enter value a:21\n",
            "a is divisible by 3\n"
          ]
        }
      ]
    }
  ]
}