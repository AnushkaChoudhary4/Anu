{
  "nbformat": 4,
  "nbformat_minor": 0,
  "metadata": {
    "colab": {
      "provenance": [],
      "authorship_tag": "ABX9TyMMvDh8P4iER1D4AWmMeG+F",
      "include_colab_link": true
    },
    "kernelspec": {
      "name": "python3",
      "display_name": "Python 3"
    },
    "language_info": {
      "name": "python"
    }
  },
  "cells": [
    {
      "cell_type": "markdown",
      "metadata": {
        "id": "view-in-github",
        "colab_type": "text"
      },
      "source": [
        "<a href=\"https://colab.research.google.com/github/AnushkaChoudhary4/Anu/blob/main/Untitled5.ipynb\" target=\"_parent\"><img src=\"https://colab.research.google.com/assets/colab-badge.svg\" alt=\"Open In Colab\"/></a>"
      ]
    },
    {
      "cell_type": "code",
      "execution_count": 3,
      "metadata": {
        "colab": {
          "base_uri": "https://localhost:8080/"
        },
        "id": "sTv4eo9QyD8Y",
        "outputId": "b12a6fe6-8e8f-4a4d-c4e0-b6e9f4887d91"
      },
      "outputs": [
        {
          "output_type": "stream",
          "name": "stdout",
          "text": [
            "1\n",
            "2\n",
            "3\n",
            "4\n",
            "5\n",
            "6\n",
            "7\n",
            "8\n",
            "9\n",
            "10\n"
          ]
        }
      ],
      "source": [
        "for i in range(1,11):\n",
        "    print(i)\n",
        ""
      ]
    },
    {
      "cell_type": "code",
      "source": [
        "for i in range(1,11,3):\n",
        "    print(i)"
      ],
      "metadata": {
        "colab": {
          "base_uri": "https://localhost:8080/"
        },
        "id": "xbIx0k7H5zHU",
        "outputId": "f2c9b0da-2185-43ed-eab6-3a2a69782287"
      },
      "execution_count": 4,
      "outputs": [
        {
          "output_type": "stream",
          "name": "stdout",
          "text": [
            "1\n",
            "4\n",
            "7\n",
            "10\n"
          ]
        }
      ]
    },
    {
      "cell_type": "code",
      "source": [
        "i=1\n",
        "while i<8:\n",
        "  print(i)\n",
        "  i+=1"
      ],
      "metadata": {
        "colab": {
          "base_uri": "https://localhost:8080/"
        },
        "id": "Mevn43t76hxf",
        "outputId": "7e527bef-935d-4dc4-fd2a-eda52a93b6d0"
      },
      "execution_count": 5,
      "outputs": [
        {
          "output_type": "stream",
          "name": "stdout",
          "text": [
            "1\n",
            "2\n",
            "3\n",
            "4\n",
            "5\n",
            "6\n",
            "7\n"
          ]
        }
      ]
    },
    {
      "cell_type": "code",
      "source": [
        "i=int(input(\"enter the value\"))\n",
        "for i in range(-1,16):\n",
        "  print(i)"
      ],
      "metadata": {
        "colab": {
          "base_uri": "https://localhost:8080/"
        },
        "id": "VMA1je_g6yfX",
        "outputId": "b5ef97d9-15a3-4163-898a-145331f13856"
      },
      "execution_count": 8,
      "outputs": [
        {
          "output_type": "stream",
          "name": "stdout",
          "text": [
            "enter the value7\n",
            "-1\n",
            "0\n",
            "1\n",
            "2\n",
            "3\n",
            "4\n",
            "5\n",
            "6\n",
            "7\n",
            "8\n",
            "9\n",
            "10\n",
            "11\n",
            "12\n",
            "13\n",
            "14\n",
            "15\n"
          ]
        }
      ]
    },
    {
      "cell_type": "code",
      "source": [
        "table=int(input(\"enter the table:\"))\n",
        "start=int(input(\"enter the starting number:\"))\n",
        "limit=int(input(\"enter the limit:\"))\n",
        "while(start<=limit):\n",
        "  print(start,\"*\",table,\"=\",start*table)\n",
        "  start=start+1"
      ],
      "metadata": {
        "colab": {
          "base_uri": "https://localhost:8080/"
        },
        "id": "DsyWci3h7kCP",
        "outputId": "4b8844bd-6932-4cc8-8a87-7e6be3e961fe"
      },
      "execution_count": 12,
      "outputs": [
        {
          "output_type": "stream",
          "name": "stdout",
          "text": [
            "enter the table:17\n",
            "enter the starting number:1\n",
            "enter the limit:10\n",
            "1 * 17 = 17\n",
            "2 * 17 = 34\n",
            "3 * 17 = 51\n",
            "4 * 17 = 68\n",
            "5 * 17 = 85\n",
            "6 * 17 = 102\n",
            "7 * 17 = 119\n",
            "8 * 17 = 136\n",
            "9 * 17 = 153\n",
            "10 * 17 = 170\n"
          ]
        }
      ]
    },
    {
      "cell_type": "code",
      "source": [
        "i<10\n",
        "for i in range(4,12):\n",
        "    continue\n",
        "    print(i)\n",
        "else:\n",
        "  print(\"done\")\n",
        ""
      ],
      "metadata": {
        "colab": {
          "base_uri": "https://localhost:8080/"
        },
        "id": "MpL04d2w-dBe",
        "outputId": "4710a6cc-03cd-4cf2-acdf-99bcd78f22b7"
      },
      "execution_count": 21,
      "outputs": [
        {
          "output_type": "stream",
          "name": "stdout",
          "text": [
            "done\n"
          ]
        }
      ]
    },
    {
      "cell_type": "code",
      "source": [
        "for i in range(12):\n",
        "  if i==6:break\n",
        "  print(i)\n",
        "else:\n",
        "  print(\"done\")"
      ],
      "metadata": {
        "colab": {
          "base_uri": "https://localhost:8080/"
        },
        "id": "5yt0226jB8Wf",
        "outputId": "fe78e07e-a723-4175-e833-8662a68395cd"
      },
      "execution_count": 25,
      "outputs": [
        {
          "output_type": "stream",
          "name": "stdout",
          "text": [
            "0\n",
            "1\n",
            "2\n",
            "3\n",
            "4\n",
            "5\n"
          ]
        }
      ]
    },
    {
      "cell_type": "code",
      "source": [
        "a=int(input(\"enter the number a:\"))\n",
        "b=int(input(\"enter the number b:\"))\n",
        "c=int(input(\"enter the number c:\"))\n",
        "total_sum=(a+b+c)\n",
        "print(total_sum)\n"
      ],
      "metadata": {
        "colab": {
          "base_uri": "https://localhost:8080/"
        },
        "id": "uar1KMDCCva2",
        "outputId": "0e2acc95-29c0-4c0f-fe06-0bc5034084b8"
      },
      "execution_count": 37,
      "outputs": [
        {
          "output_type": "stream",
          "name": "stdout",
          "text": [
            "enter the number a:2\n",
            "enter the number b:3\n",
            "enter the number c:4\n",
            "9\n"
          ]
        }
      ]
    },
    {
      "cell_type": "code",
      "source": [
        "num=345\n",
        "reversed_num=0\n",
        "while num!=0:\n",
        "  digit=num%10\n",
        "  reversed_num=reversed_num*10+digit\n",
        "  num//=10\n",
        "print(\"reversed number:\"+str(reversed_num))\n",
        ""
      ],
      "metadata": {
        "colab": {
          "base_uri": "https://localhost:8080/"
        },
        "id": "nagXw1t6FVDN",
        "outputId": "cad170ff-6dfc-47ce-e58f-959eb7fb4182"
      },
      "execution_count": 44,
      "outputs": [
        {
          "output_type": "stream",
          "name": "stdout",
          "text": [
            "reversed number:543\n"
          ]
        }
      ]
    }
  ]
}