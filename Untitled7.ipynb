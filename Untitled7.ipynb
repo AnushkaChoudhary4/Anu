{
  "nbformat": 4,
  "nbformat_minor": 0,
  "metadata": {
    "colab": {
      "provenance": [],
      "authorship_tag": "ABX9TyNQ5LzcSUYErFeg/9/EiMv0",
      "include_colab_link": true
    },
    "kernelspec": {
      "name": "python3",
      "display_name": "Python 3"
    },
    "language_info": {
      "name": "python"
    }
  },
  "cells": [
    {
      "cell_type": "markdown",
      "metadata": {
        "id": "view-in-github",
        "colab_type": "text"
      },
      "source": [
        "<a href=\"https://colab.research.google.com/github/AnushkaChoudhary4/Anu/blob/main/Untitled7.ipynb\" target=\"_parent\"><img src=\"https://colab.research.google.com/assets/colab-badge.svg\" alt=\"Open In Colab\"/></a>"
      ]
    },
    {
      "cell_type": "code",
      "execution_count": 1,
      "metadata": {
        "colab": {
          "base_uri": "https://localhost:8080/"
        },
        "id": "Et6O0ZIg6u_K",
        "outputId": "c8b057fa-1b52-4314-b28e-ac7b4cff0456"
      },
      "outputs": [
        {
          "output_type": "stream",
          "name": "stdout",
          "text": [
            "Enter the number:17\n",
            "17 * 1 = 17\n",
            "17 * 2 = 34\n",
            "17 * 3 = 51\n",
            "17 * 4 = 68\n",
            "17 * 5 = 85\n",
            "17 * 6 = 102\n",
            "17 * 7 = 119\n",
            "17 * 8 = 136\n",
            "17 * 9 = 153\n",
            "17 * 10 = 170\n"
          ]
        }
      ],
      "source": [
        "n=int(input(\"Enter the number:\"))\n",
        "for i in range(1,11):\n",
        "  print(n,\"*\",i,\"=\",n*i)"
      ]
    },
    {
      "cell_type": "code",
      "source": [
        "i=int(input(\"Enter the number:\"))\n",
        "rev=0\n",
        "while(i>0):\n",
        "  rev=(rev*10)+i%10\n",
        "  i=i//10\n",
        "print(\"Reverse=\",rev)"
      ],
      "metadata": {
        "colab": {
          "base_uri": "https://localhost:8080/"
        },
        "id": "mrW2cU2M-JjN",
        "outputId": "7b39a54a-0610-41b2-90c1-34d02ae3a846"
      },
      "execution_count": 2,
      "outputs": [
        {
          "output_type": "stream",
          "name": "stdout",
          "text": [
            "Enter the number:345\n",
            "Reverse= 543\n"
          ]
        }
      ]
    },
    {
      "cell_type": "code",
      "source": [
        "def add(num1,num2):\n",
        "  num3=num1+num2\n",
        "  print(num3)\n",
        "add(4,5)\n",
        "\n",
        ""
      ],
      "metadata": {
        "colab": {
          "base_uri": "https://localhost:8080/"
        },
        "id": "xIFJuhjBAgNe",
        "outputId": "1907c787-ee57-430a-e6d1-f8717be31702"
      },
      "execution_count": 8,
      "outputs": [
        {
          "output_type": "stream",
          "name": "stdout",
          "text": [
            "9\n"
          ]
        }
      ]
    },
    {
      "cell_type": "code",
      "source": [
        "def add(*arg):\n",
        "    length=len(arg)\n",
        "    print(arg[length-1])\n",
        "add(3,4,5,6,7)\n",
        "add(3,4,5,6)\n",
        "add(3,4,5)\n",
        "add(3,4)\n",
        "add(3)\n"
      ],
      "metadata": {
        "colab": {
          "base_uri": "https://localhost:8080/"
        },
        "id": "F_gJHtIBCeae",
        "outputId": "d888ad98-b9d7-450c-cb73-8141f12f4135"
      },
      "execution_count": 9,
      "outputs": [
        {
          "output_type": "stream",
          "name": "stdout",
          "text": [
            "7\n",
            "6\n",
            "5\n",
            "4\n",
            "3\n"
          ]
        }
      ]
    },
    {
      "cell_type": "code",
      "source": [
        "num1=int(input(\"enter the number\"))\n",
        "num2=int(input(\"enter the number\"))\n",
        "def add(num1,num2):\n",
        "  return(num1+num2)\n",
        "print(\"sum of numbers\",add(num1,num2))\n",
        ""
      ],
      "metadata": {
        "colab": {
          "base_uri": "https://localhost:8080/"
        },
        "id": "kZJ2N-uOFjIY",
        "outputId": "b345285a-d16a-4011-a463-873b0bb4dfed"
      },
      "execution_count": 22,
      "outputs": [
        {
          "output_type": "stream",
          "name": "stdout",
          "text": [
            "enter the number45\n",
            "enter the number67\n",
            "sum of numbers 112\n"
          ]
        }
      ]
    },
    {
      "cell_type": "code",
      "source": [],
      "metadata": {
        "id": "8nhGQMIAOiSk"
      },
      "execution_count": null,
      "outputs": []
    }
  ]
}